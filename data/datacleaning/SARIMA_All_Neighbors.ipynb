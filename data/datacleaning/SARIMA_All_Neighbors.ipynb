{
 "cells": [
  {
   "cell_type": "code",
   "execution_count": 2,
   "metadata": {
    "collapsed": false
   },
   "outputs": [],
   "source": [
    "# Seasonal ARIMA model of review counts\n",
    "import sys\n",
    "import pandas as pd\n",
    "import numpy as np\n",
    "np.warnings.filterwarnings(\"ignore\")\n",
    "from pandas.core import datetools\n",
    "import itertools\n",
    "import math\n",
    "import datetime\n",
    "from dateutil.relativedelta import relativedelta\n",
    "\n",
    "import matplotlib.pyplot as plt\n",
    "\n",
    "import statsmodels.api as sm  \n",
    "from statsmodels.tsa.stattools import acf  \n",
    "from statsmodels.tsa.stattools import pacf\n",
    "from statsmodels.tsa.seasonal import seasonal_decompose\n",
    "\n",
    "import sklearn.linear_model\n",
    "from statsmodels.tsa.stattools import adfuller\n",
    "\n"
   ]
  },
  {
   "cell_type": "code",
   "execution_count": 3,
   "metadata": {
    "collapsed": false
   },
   "outputs": [],
   "source": [
    "# load in the review data table\n",
    "PGH_review = pd.read_csv('Yelp_ReviewCount.csv', sep = '\\t')\n",
    "\n",
    "mask = (PGH_review['Month'] >= '2010') & (PGH_review['Month'] <= '2017-11-01')\n",
    "PGH_2010_2017 = PGH_review[mask]\n",
    "PGH_2010_2017.set_index('Month',inplace=True)\n",
    "PGH_2010_2017 = PGH_2010_2017.drop(['Uncategorized'], axis=1)"
   ]
  },
  {
   "cell_type": "code",
   "execution_count": 4,
   "metadata": {
    "collapsed": false
   },
   "outputs": [],
   "source": [
    "# define a function for grid_search arima parameters by minizing the error in test dataset\n",
    "def grid_search_pdq(X):\n",
    "    # Use data before 2016-12-01 as train data and evaluate error on 2017 data to find model parameters\n",
    "    X_train = X.Value_log[:'2016-12-01']\n",
    "    X_test = X.Value['2017-01-01':]\n",
    "\n",
    "    # Use gridsearch to search for (p,d,q) and (P,D,Q) for Seasonal-ARIMA model \n",
    "    d = [0, 1]\n",
    "    p = range(0, 3)\n",
    "    q = range(0, 3)\n",
    "    pdq = list(itertools.product(p, d, q))\n",
    "    seasonal_pdq = [(x[0], x[1], x[2], 12) for x in list(itertools.product(p, d, q))]\n",
    "\n",
    "    # Grid_search\n",
    "    best_pdq = None\n",
    "    best_seasonal_pdq = None\n",
    "    tmp_model = None\n",
    "    best_mdl = None\n",
    "    \n",
    "    predictions = list()\n",
    "    min_error = np.inf\n",
    "    \n",
    "    for param in pdq:\n",
    "        for param_seasonal in seasonal_pdq:\n",
    "            tmp_mdl = sm.tsa.statespace.SARIMAX(X_train,\n",
    "                                               order = param,\n",
    "                                               seasonal_order = param_seasonal,\n",
    "                                               enforce_stationarity = True,\n",
    "                                               enforce_invertibility = True)\n",
    "            try:\n",
    "                #res = tmp_mdl.fit(maxiter=100, method='powell')\n",
    "                res = tmp_mdl.fit()\n",
    "            except:\n",
    "                #print(\"Unexpected error occurred\", sys.exc_info()[0])\n",
    "                continue\n",
    "                \n",
    "            pred_uc = res.get_forecast(steps=11) \n",
    "            y_hat = np.exp(pred_uc.predicted_mean) - 1\n",
    "            #error = mean_squared_error(X_test, y_hat)\n",
    "            error = ((y_hat - X_test) ** 2).mean()\n",
    "\n",
    "            if error < min_error:\n",
    "                min_error = error\n",
    "                best_pdq = param\n",
    "                best_seasonal_pdq = param_seasonal\n",
    "                best_mdl = tmp_mdl\n",
    "       \n",
    "    return best_pdq, best_seasonal_pdq"
   ]
  },
  {
   "cell_type": "code",
   "execution_count": 5,
   "metadata": {
    "collapsed": false,
    "scrolled": true
   },
   "outputs": [
    {
     "name": "stderr",
     "output_type": "stream",
     "text": [
      "\r",
      "  0%|          | 0/68 [00:00<?, ?it/s]"
     ]
    },
    {
     "name": "stdout",
     "output_type": "stream",
     "text": [
      "Allegheny Center\n",
      "best_pdq:"
     ]
    },
    {
     "name": "stderr",
     "output_type": "stream",
     "text": [
      "\r",
      "  1%|▏         | 1/68 [01:12<1:20:48, 72.37s/it]"
     ]
    },
    {
     "name": "stdout",
     "output_type": "stream",
     "text": [
      " best_seasonal_pdq:\n",
      "(1, 1, 0) (2, 0, 0, 12)\n",
      "Allegheny West\n",
      "best_pdq:"
     ]
    },
    {
     "name": "stderr",
     "output_type": "stream",
     "text": [
      "\r",
      "  3%|▎         | 2/68 [02:01<1:06:59, 60.90s/it]"
     ]
    },
    {
     "name": "stdout",
     "output_type": "stream",
     "text": [
      " best_seasonal_pdq:\n",
      "(0, 1, 0) (0, 0, 0, 12)\n",
      "Allentown\n",
      "best_pdq:"
     ]
    },
    {
     "name": "stderr",
     "output_type": "stream",
     "text": [
      "\r",
      "  4%|▍         | 3/68 [02:46<1:00:11, 55.57s/it]"
     ]
    },
    {
     "name": "stdout",
     "output_type": "stream",
     "text": [
      " best_seasonal_pdq:\n",
      "(0, 1, 1) (1, 1, 0, 12)\n",
      "Arlington\n",
      "best_pdq:"
     ]
    },
    {
     "name": "stderr",
     "output_type": "stream",
     "text": [
      "\r",
      "  6%|▌         | 4/68 [03:36<57:46, 54.16s/it]  "
     ]
    },
    {
     "name": "stdout",
     "output_type": "stream",
     "text": [
      " best_seasonal_pdq:\n",
      "(0, 0, 0) (0, 0, 0, 12)\n",
      "Banksville\n",
      "best_pdq:"
     ]
    },
    {
     "name": "stderr",
     "output_type": "stream",
     "text": [
      "\r",
      "  7%|▋         | 5/68 [04:32<57:16, 54.55s/it]"
     ]
    },
    {
     "name": "stdout",
     "output_type": "stream",
     "text": [
      " best_seasonal_pdq:\n",
      "(2, 0, 1) (0, 0, 1, 12)\n",
      "Beechview\n",
      "best_pdq:"
     ]
    },
    {
     "name": "stderr",
     "output_type": "stream",
     "text": [
      "\r",
      "  9%|▉         | 6/68 [05:22<55:33, 53.76s/it]"
     ]
    },
    {
     "name": "stdout",
     "output_type": "stream",
     "text": [
      " best_seasonal_pdq:\n",
      "(0, 1, 0) (0, 1, 1, 12)\n",
      "Bloomfield\n",
      "best_pdq:"
     ]
    },
    {
     "name": "stderr",
     "output_type": "stream",
     "text": [
      "\r",
      " 10%|█         | 7/68 [06:21<55:26, 54.53s/it]"
     ]
    },
    {
     "name": "stdout",
     "output_type": "stream",
     "text": [
      " best_seasonal_pdq:\n",
      "(0, 1, 0) (1, 0, 0, 12)\n",
      "Bluff\n",
      "best_pdq:"
     ]
    },
    {
     "name": "stderr",
     "output_type": "stream",
     "text": [
      "\r",
      " 12%|█▏        | 8/68 [07:08<53:30, 53.51s/it]"
     ]
    },
    {
     "name": "stdout",
     "output_type": "stream",
     "text": [
      " best_seasonal_pdq:\n",
      "(0, 1, 1) (2, 1, 1, 12)\n",
      "Bon Air\n",
      "best_pdq:"
     ]
    },
    {
     "name": "stderr",
     "output_type": "stream",
     "text": [
      "\r",
      " 13%|█▎        | 9/68 [07:54<51:51, 52.74s/it]"
     ]
    },
    {
     "name": "stdout",
     "output_type": "stream",
     "text": [
      " best_seasonal_pdq:\n",
      "(1, 1, 0) (0, 0, 0, 12)\n",
      "Brighton Heights\n",
      "best_pdq:"
     ]
    },
    {
     "name": "stderr",
     "output_type": "stream",
     "text": [
      "\r",
      " 15%|█▍        | 10/68 [08:41<50:22, 52.10s/it]"
     ]
    },
    {
     "name": "stdout",
     "output_type": "stream",
     "text": [
      " best_seasonal_pdq:\n",
      "(2, 0, 2) (0, 1, 0, 12)\n",
      "Brookline\n",
      "best_pdq:"
     ]
    },
    {
     "name": "stderr",
     "output_type": "stream",
     "text": [
      "\r",
      " 16%|█▌        | 11/68 [09:19<48:19, 50.87s/it]"
     ]
    },
    {
     "name": "stdout",
     "output_type": "stream",
     "text": [
      " best_seasonal_pdq:\n",
      "(2, 1, 0) (1, 1, 0, 12)\n",
      "California-Kirkbride\n",
      "best_pdq:"
     ]
    },
    {
     "name": "stderr",
     "output_type": "stream",
     "text": [
      "\r",
      " 18%|█▊        | 12/68 [09:52<46:03, 49.35s/it]"
     ]
    },
    {
     "name": "stdout",
     "output_type": "stream",
     "text": [
      " best_seasonal_pdq:\n",
      "(2, 1, 0) (2, 0, 1, 12)\n",
      "Carrick\n",
      "best_pdq:"
     ]
    },
    {
     "name": "stderr",
     "output_type": "stream",
     "text": [
      "\r",
      " 19%|█▉        | 13/68 [10:43<45:24, 49.54s/it]"
     ]
    },
    {
     "name": "stdout",
     "output_type": "stream",
     "text": [
      " best_seasonal_pdq:\n",
      "(1, 0, 1) (1, 1, 0, 12)\n",
      "Central Business District\n",
      "best_pdq:"
     ]
    },
    {
     "name": "stderr",
     "output_type": "stream",
     "text": [
      "\r",
      " 21%|██        | 14/68 [11:43<45:14, 50.27s/it]"
     ]
    },
    {
     "name": "stdout",
     "output_type": "stream",
     "text": [
      " best_seasonal_pdq:\n",
      "(2, 1, 2) (2, 0, 1, 12)\n",
      "Central Lawrenceville\n",
      "best_pdq:"
     ]
    },
    {
     "name": "stderr",
     "output_type": "stream",
     "text": [
      "\r",
      " 22%|██▏       | 15/68 [12:46<45:08, 51.11s/it]"
     ]
    },
    {
     "name": "stdout",
     "output_type": "stream",
     "text": [
      " best_seasonal_pdq:\n",
      "(0, 1, 0) (0, 1, 1, 12)\n",
      "Central Northside\n",
      "best_pdq:"
     ]
    },
    {
     "name": "stderr",
     "output_type": "stream",
     "text": [
      "\r",
      " 24%|██▎       | 16/68 [13:42<44:34, 51.43s/it]"
     ]
    },
    {
     "name": "stdout",
     "output_type": "stream",
     "text": [
      " best_seasonal_pdq:\n",
      "(0, 1, 2) (2, 1, 1, 12)\n",
      "Chateau\n",
      "best_pdq:"
     ]
    },
    {
     "name": "stderr",
     "output_type": "stream",
     "text": [
      "\r",
      " 25%|██▌       | 17/68 [14:05<42:17, 49.76s/it]"
     ]
    },
    {
     "name": "stdout",
     "output_type": "stream",
     "text": [
      " best_seasonal_pdq:\n",
      "(1, 1, 2) (1, 0, 0, 12)\n",
      "Crawford Roberts\n",
      "best_pdq:"
     ]
    },
    {
     "name": "stderr",
     "output_type": "stream",
     "text": [
      "\r",
      " 26%|██▋       | 18/68 [14:47<41:05, 49.30s/it]"
     ]
    },
    {
     "name": "stdout",
     "output_type": "stream",
     "text": [
      " best_seasonal_pdq:\n",
      "(1, 1, 1) (0, 0, 0, 12)\n",
      "Dormont\n",
      "best_pdq:"
     ]
    },
    {
     "name": "stderr",
     "output_type": "stream",
     "text": [
      "\r",
      " 28%|██▊       | 19/68 [15:33<40:06, 49.12s/it]"
     ]
    },
    {
     "name": "stdout",
     "output_type": "stream",
     "text": [
      " best_seasonal_pdq:\n",
      "(0, 1, 2) (0, 1, 1, 12)\n",
      "Duquesne Heights\n",
      "best_pdq:"
     ]
    },
    {
     "name": "stderr",
     "output_type": "stream",
     "text": [
      "\r",
      " 29%|██▉       | 20/68 [16:26<39:27, 49.32s/it]"
     ]
    },
    {
     "name": "stdout",
     "output_type": "stream",
     "text": [
      " best_seasonal_pdq:\n",
      "(1, 0, 2) (0, 1, 1, 12)\n",
      "East Allegheny\n",
      "best_pdq:"
     ]
    },
    {
     "name": "stderr",
     "output_type": "stream",
     "text": [
      "\r",
      " 31%|███       | 21/68 [17:11<38:28, 49.11s/it]"
     ]
    },
    {
     "name": "stdout",
     "output_type": "stream",
     "text": [
      " best_seasonal_pdq:\n",
      "(0, 1, 1) (2, 0, 1, 12)\n",
      "East Hills\n",
      "best_pdq:"
     ]
    },
    {
     "name": "stderr",
     "output_type": "stream",
     "text": [
      "\r",
      " 32%|███▏      | 22/68 [17:55<37:27, 48.87s/it]"
     ]
    },
    {
     "name": "stdout",
     "output_type": "stream",
     "text": [
      " best_seasonal_pdq:\n",
      "(1, 0, 2) (1, 0, 1, 12)\n",
      "East Liberty\n",
      "best_pdq:"
     ]
    },
    {
     "name": "stderr",
     "output_type": "stream",
     "text": [
      "\r",
      " 34%|███▍      | 23/68 [18:40<36:32, 48.72s/it]"
     ]
    },
    {
     "name": "stdout",
     "output_type": "stream",
     "text": [
      " best_seasonal_pdq:\n",
      "(0, 1, 0) (0, 1, 1, 12)\n",
      "Elliott\n",
      "best_pdq:"
     ]
    },
    {
     "name": "stderr",
     "output_type": "stream",
     "text": [
      "\r",
      " 35%|███▌      | 24/68 [19:33<35:51, 48.90s/it]"
     ]
    },
    {
     "name": "stdout",
     "output_type": "stream",
     "text": [
      " best_seasonal_pdq:\n",
      "(0, 1, 1) (0, 0, 1, 12)\n",
      "Fairywood\n",
      "best_pdq:"
     ]
    },
    {
     "name": "stderr",
     "output_type": "stream",
     "text": [
      "\r",
      " 37%|███▋      | 25/68 [20:16<34:52, 48.65s/it]"
     ]
    },
    {
     "name": "stdout",
     "output_type": "stream",
     "text": [
      " best_seasonal_pdq:\n",
      "(0, 1, 0) (0, 0, 0, 12)\n",
      "Friendship\n",
      "best_pdq:"
     ]
    },
    {
     "name": "stderr",
     "output_type": "stream",
     "text": [
      "\r",
      " 38%|███▊      | 26/68 [21:17<34:23, 49.14s/it]"
     ]
    },
    {
     "name": "stdout",
     "output_type": "stream",
     "text": [
      " best_seasonal_pdq:\n",
      "(0, 0, 0) (1, 0, 2, 12)\n",
      "Garfield\n",
      "best_pdq:"
     ]
    },
    {
     "name": "stderr",
     "output_type": "stream",
     "text": [
      "\r",
      " 40%|███▉      | 27/68 [22:06<33:34, 49.13s/it]"
     ]
    },
    {
     "name": "stdout",
     "output_type": "stream",
     "text": [
      " best_seasonal_pdq:\n",
      "(0, 0, 1) (2, 1, 1, 12)\n",
      "Greenfield\n",
      "best_pdq:"
     ]
    },
    {
     "name": "stderr",
     "output_type": "stream",
     "text": [
      "\r",
      " 41%|████      | 28/68 [22:59<32:51, 49.28s/it]"
     ]
    },
    {
     "name": "stdout",
     "output_type": "stream",
     "text": [
      " best_seasonal_pdq:\n",
      "(1, 1, 0) (0, 0, 0, 12)\n",
      "Hazelwood\n",
      "best_pdq:"
     ]
    },
    {
     "name": "stderr",
     "output_type": "stream",
     "text": [
      "\r",
      " 43%|████▎     | 29/68 [23:49<32:02, 49.29s/it]"
     ]
    },
    {
     "name": "stdout",
     "output_type": "stream",
     "text": [
      " best_seasonal_pdq:\n",
      "(2, 1, 0) (0, 0, 0, 12)\n",
      "Herrs Island\n",
      "best_pdq:"
     ]
    },
    {
     "name": "stderr",
     "output_type": "stream",
     "text": [
      "\r",
      " 44%|████▍     | 30/68 [24:25<30:56, 48.86s/it]"
     ]
    },
    {
     "name": "stdout",
     "output_type": "stream",
     "text": [
      " best_seasonal_pdq:\n",
      "(0, 1, 1) (0, 1, 0, 12)\n",
      "Highland Park\n",
      "best_pdq:"
     ]
    },
    {
     "name": "stderr",
     "output_type": "stream",
     "text": [
      "\r",
      " 46%|████▌     | 31/68 [25:07<29:59, 48.62s/it]"
     ]
    },
    {
     "name": "stdout",
     "output_type": "stream",
     "text": [
      " best_seasonal_pdq:\n",
      "(0, 1, 0) (1, 0, 1, 12)\n",
      "Homewood South\n",
      "best_pdq:"
     ]
    },
    {
     "name": "stderr",
     "output_type": "stream",
     "text": [
      "\r",
      " 47%|████▋     | 32/68 [26:09<29:26, 49.06s/it]"
     ]
    },
    {
     "name": "stdout",
     "output_type": "stream",
     "text": [
      " best_seasonal_pdq:\n",
      "(0, 1, 1) (0, 1, 0, 12)\n",
      "Homewood West\n",
      "best_pdq:"
     ]
    },
    {
     "name": "stderr",
     "output_type": "stream",
     "text": [
      "\r",
      " 49%|████▊     | 33/68 [27:05<28:43, 49.25s/it]"
     ]
    },
    {
     "name": "stdout",
     "output_type": "stream",
     "text": [
      " best_seasonal_pdq:\n",
      "(2, 0, 2) (2, 1, 1, 12)\n",
      "Knoxville\n",
      "best_pdq:"
     ]
    },
    {
     "name": "stderr",
     "output_type": "stream",
     "text": [
      "\r",
      " 50%|█████     | 34/68 [28:20<28:20, 50.00s/it]"
     ]
    },
    {
     "name": "stdout",
     "output_type": "stream",
     "text": [
      " best_seasonal_pdq:\n",
      "(0, 1, 0) (1, 1, 1, 12)\n",
      "Larimer\n",
      "best_pdq:"
     ]
    },
    {
     "name": "stderr",
     "output_type": "stream",
     "text": [
      "\r",
      " 51%|█████▏    | 35/68 [29:30<27:49, 50.59s/it]"
     ]
    },
    {
     "name": "stdout",
     "output_type": "stream",
     "text": [
      " best_seasonal_pdq:\n",
      "(1, 0, 0) (0, 1, 1, 12)\n",
      "Lincoln Place\n",
      "best_pdq:"
     ]
    },
    {
     "name": "stderr",
     "output_type": "stream",
     "text": [
      "\r",
      " 53%|█████▎    | 36/68 [30:25<27:02, 50.71s/it]"
     ]
    },
    {
     "name": "stdout",
     "output_type": "stream",
     "text": [
      " best_seasonal_pdq:\n",
      "(0, 1, 1) (0, 0, 0, 12)\n",
      "Lower Lawrenceville\n",
      "best_pdq:"
     ]
    },
    {
     "name": "stderr",
     "output_type": "stream",
     "text": [
      "\r",
      " 54%|█████▍    | 37/68 [31:21<26:16, 50.85s/it]"
     ]
    },
    {
     "name": "stdout",
     "output_type": "stream",
     "text": [
      " best_seasonal_pdq:\n",
      "(0, 1, 1) (2, 0, 1, 12)\n",
      "Manchester\n",
      "best_pdq:"
     ]
    },
    {
     "name": "stderr",
     "output_type": "stream",
     "text": [
      "\r",
      " 56%|█████▌    | 38/68 [31:22<24:45, 49.53s/it]"
     ]
    },
    {
     "name": "stdout",
     "output_type": "stream",
     "text": [
      " best_seasonal_pdq:\n",
      "None None\n",
      "Marshall - Shadeland\n",
      "best_pdq:"
     ]
    },
    {
     "name": "stderr",
     "output_type": "stream",
     "text": [
      "\r",
      " 57%|█████▋    | 39/68 [32:22<24:04, 49.80s/it]"
     ]
    },
    {
     "name": "stdout",
     "output_type": "stream",
     "text": [
      " best_seasonal_pdq:\n",
      "(2, 1, 2) (2, 0, 1, 12)\n",
      "Middle Hill\n",
      "best_pdq:"
     ]
    },
    {
     "name": "stderr",
     "output_type": "stream",
     "text": [
      "\r",
      " 59%|█████▉    | 40/68 [33:28<23:25, 50.20s/it]"
     ]
    },
    {
     "name": "stdout",
     "output_type": "stream",
     "text": [
      " best_seasonal_pdq:\n",
      "(2, 0, 2) (0, 1, 0, 12)\n",
      "Morningside\n",
      "best_pdq:"
     ]
    },
    {
     "name": "stderr",
     "output_type": "stream",
     "text": [
      "\r",
      " 60%|██████    | 41/68 [34:46<22:54, 50.89s/it]"
     ]
    },
    {
     "name": "stdout",
     "output_type": "stream",
     "text": [
      " best_seasonal_pdq:\n",
      "(0, 1, 0) (1, 0, 1, 12)\n",
      "Mount Lebanon\n",
      "best_pdq:"
     ]
    },
    {
     "name": "stderr",
     "output_type": "stream",
     "text": [
      "\r",
      " 62%|██████▏   | 42/68 [35:35<22:01, 50.85s/it]"
     ]
    },
    {
     "name": "stdout",
     "output_type": "stream",
     "text": [
      " best_seasonal_pdq:\n",
      "(0, 1, 1) (1, 0, 0, 12)\n",
      "Mount Washington\n",
      "best_pdq:"
     ]
    },
    {
     "name": "stderr",
     "output_type": "stream",
     "text": [
      "\r",
      " 63%|██████▎   | 43/68 [36:28<21:12, 50.89s/it]"
     ]
    },
    {
     "name": "stdout",
     "output_type": "stream",
     "text": [
      " best_seasonal_pdq:\n",
      "(0, 1, 2) (1, 1, 0, 12)\n",
      "North Oakland\n",
      "best_pdq:"
     ]
    },
    {
     "name": "stderr",
     "output_type": "stream",
     "text": [
      "\r",
      " 65%|██████▍   | 44/68 [37:24<20:24, 51.02s/it]"
     ]
    },
    {
     "name": "stdout",
     "output_type": "stream",
     "text": [
      " best_seasonal_pdq:\n",
      "(1, 1, 0) (1, 1, 1, 12)\n",
      "North Shore\n",
      "best_pdq:"
     ]
    },
    {
     "name": "stderr",
     "output_type": "stream",
     "text": [
      "\r",
      " 66%|██████▌   | 45/68 [38:35<19:43, 51.47s/it]"
     ]
    },
    {
     "name": "stdout",
     "output_type": "stream",
     "text": [
      " best_seasonal_pdq:\n",
      "(1, 1, 0) (2, 0, 0, 12)\n",
      "Oakland\n",
      "best_pdq:"
     ]
    },
    {
     "name": "stderr",
     "output_type": "stream",
     "text": [
      "\r",
      " 68%|██████▊   | 46/68 [39:21<18:49, 51.34s/it]"
     ]
    },
    {
     "name": "stdout",
     "output_type": "stream",
     "text": [
      " best_seasonal_pdq:\n",
      "(0, 0, 2) (2, 0, 2, 12)\n",
      "Oakwood\n",
      "best_pdq:"
     ]
    },
    {
     "name": "stderr",
     "output_type": "stream",
     "text": [
      "\r",
      " 69%|██████▉   | 47/68 [40:13<17:58, 51.36s/it]"
     ]
    },
    {
     "name": "stdout",
     "output_type": "stream",
     "text": [
      " best_seasonal_pdq:\n",
      "(2, 1, 0) (1, 0, 0, 12)\n",
      "Overbrook\n",
      "best_pdq:"
     ]
    },
    {
     "name": "stderr",
     "output_type": "stream",
     "text": [
      "\r",
      " 71%|███████   | 48/68 [41:06<17:07, 51.38s/it]"
     ]
    },
    {
     "name": "stdout",
     "output_type": "stream",
     "text": [
      " best_seasonal_pdq:\n",
      "(1, 1, 2) (0, 0, 0, 12)\n",
      "Perry North\n",
      "best_pdq:"
     ]
    },
    {
     "name": "stderr",
     "output_type": "stream",
     "text": [
      "\r",
      " 72%|███████▏  | 49/68 [42:25<16:27, 51.95s/it]"
     ]
    },
    {
     "name": "stdout",
     "output_type": "stream",
     "text": [
      " best_seasonal_pdq:\n",
      "(0, 0, 0) (0, 0, 0, 12)\n",
      "Perry South\n",
      "best_pdq:"
     ]
    },
    {
     "name": "stderr",
     "output_type": "stream",
     "text": [
      "\r",
      " 74%|███████▎  | 50/68 [43:17<15:34, 51.94s/it]"
     ]
    },
    {
     "name": "stdout",
     "output_type": "stream",
     "text": [
      " best_seasonal_pdq:\n",
      "(0, 1, 2) (2, 0, 1, 12)\n",
      "Point Breeze\n",
      "best_pdq:"
     ]
    },
    {
     "name": "stderr",
     "output_type": "stream",
     "text": [
      "\r",
      " 75%|███████▌  | 51/68 [44:06<14:42, 51.89s/it]"
     ]
    },
    {
     "name": "stdout",
     "output_type": "stream",
     "text": [
      " best_seasonal_pdq:\n",
      "(2, 1, 2) (2, 0, 1, 12)\n",
      "Point Breeze North\n",
      "best_pdq:"
     ]
    },
    {
     "name": "stderr",
     "output_type": "stream",
     "text": [
      "\r",
      " 76%|███████▋  | 52/68 [45:04<13:52, 52.01s/it]"
     ]
    },
    {
     "name": "stdout",
     "output_type": "stream",
     "text": [
      " best_seasonal_pdq:\n",
      "(0, 1, 1) (0, 0, 0, 12)\n",
      "Polish Hill\n",
      "best_pdq:"
     ]
    },
    {
     "name": "stderr",
     "output_type": "stream",
     "text": [
      "\r",
      " 78%|███████▊  | 53/68 [45:49<12:58, 51.87s/it]"
     ]
    },
    {
     "name": "stdout",
     "output_type": "stream",
     "text": [
      " best_seasonal_pdq:\n",
      "(1, 1, 0) (0, 0, 0, 12)\n",
      "Regent Square\n",
      "best_pdq:"
     ]
    },
    {
     "name": "stderr",
     "output_type": "stream",
     "text": [
      "\r",
      " 79%|███████▉  | 54/68 [46:44<12:07, 51.94s/it]"
     ]
    },
    {
     "name": "stdout",
     "output_type": "stream",
     "text": [
      " best_seasonal_pdq:\n",
      "(0, 1, 0) (0, 0, 0, 12)\n",
      "Ridgemont\n",
      "best_pdq:"
     ]
    },
    {
     "name": "stderr",
     "output_type": "stream",
     "text": [
      "\r",
      " 81%|████████  | 55/68 [47:57<11:20, 52.32s/it]"
     ]
    },
    {
     "name": "stdout",
     "output_type": "stream",
     "text": [
      " best_seasonal_pdq:\n",
      "(2, 1, 1) (0, 1, 1, 12)\n",
      "Shadyside\n",
      "best_pdq:"
     ]
    },
    {
     "name": "stderr",
     "output_type": "stream",
     "text": [
      "\r",
      " 82%|████████▏ | 56/68 [48:59<10:29, 52.50s/it]"
     ]
    },
    {
     "name": "stdout",
     "output_type": "stream",
     "text": [
      " best_seasonal_pdq:\n",
      "(1, 1, 0) (0, 1, 1, 12)\n",
      "South Shore\n",
      "best_pdq:"
     ]
    },
    {
     "name": "stderr",
     "output_type": "stream",
     "text": [
      "\r",
      " 84%|████████▍ | 57/68 [49:50<09:37, 52.46s/it]"
     ]
    },
    {
     "name": "stdout",
     "output_type": "stream",
     "text": [
      " best_seasonal_pdq:\n",
      "(0, 1, 1) (1, 0, 1, 12)\n",
      "Southside Flats\n",
      "best_pdq:"
     ]
    },
    {
     "name": "stderr",
     "output_type": "stream",
     "text": [
      "\r",
      " 85%|████████▌ | 58/68 [50:52<08:46, 52.62s/it]"
     ]
    },
    {
     "name": "stdout",
     "output_type": "stream",
     "text": [
      " best_seasonal_pdq:\n",
      "(1, 0, 0) (1, 1, 0, 12)\n",
      "Southside Slopes\n",
      "best_pdq:"
     ]
    },
    {
     "name": "stderr",
     "output_type": "stream",
     "text": [
      "\r",
      " 87%|████████▋ | 59/68 [52:12<07:57, 53.09s/it]"
     ]
    },
    {
     "name": "stdout",
     "output_type": "stream",
     "text": [
      " best_seasonal_pdq:\n",
      "(0, 1, 0) (2, 1, 1, 12)\n",
      "Spring Garden\n",
      "best_pdq:"
     ]
    },
    {
     "name": "stderr",
     "output_type": "stream",
     "text": [
      "\r",
      " 88%|████████▊ | 60/68 [53:10<07:05, 53.18s/it]"
     ]
    },
    {
     "name": "stdout",
     "output_type": "stream",
     "text": [
      " best_seasonal_pdq:\n",
      "(0, 1, 2) (2, 1, 1, 12)\n",
      "Squirrel Hill North\n",
      "best_pdq:"
     ]
    },
    {
     "name": "stderr",
     "output_type": "stream",
     "text": [
      "\r",
      " 90%|████████▉ | 61/68 [54:18<06:13, 53.42s/it]"
     ]
    },
    {
     "name": "stdout",
     "output_type": "stream",
     "text": [
      " best_seasonal_pdq:\n",
      "(1, 0, 1) (1, 1, 1, 12)\n",
      "Squirrel Hill South\n",
      "best_pdq:"
     ]
    },
    {
     "name": "stderr",
     "output_type": "stream",
     "text": [
      "\r",
      " 91%|█████████ | 62/68 [55:15<05:20, 53.48s/it]"
     ]
    },
    {
     "name": "stdout",
     "output_type": "stream",
     "text": [
      " best_seasonal_pdq:\n",
      "(0, 1, 0) (1, 0, 1, 12)\n",
      "Strip District\n",
      "best_pdq:"
     ]
    },
    {
     "name": "stderr",
     "output_type": "stream",
     "text": [
      "\r",
      " 93%|█████████▎| 63/68 [56:04<04:27, 53.40s/it]"
     ]
    },
    {
     "name": "stdout",
     "output_type": "stream",
     "text": [
      " best_seasonal_pdq:\n",
      "(0, 0, 2) (2, 1, 0, 12)\n",
      "Swisshelm Park\n",
      "best_pdq:"
     ]
    },
    {
     "name": "stderr",
     "output_type": "stream",
     "text": [
      "\r",
      " 94%|█████████▍| 64/68 [56:39<03:32, 53.11s/it]"
     ]
    },
    {
     "name": "stdout",
     "output_type": "stream",
     "text": [
      " best_seasonal_pdq:\n",
      "(0, 1, 1) (0, 0, 1, 12)\n",
      "Troy Hill\n",
      "best_pdq:"
     ]
    },
    {
     "name": "stderr",
     "output_type": "stream",
     "text": [
      "\r",
      " 96%|█████████▌| 65/68 [57:23<02:38, 52.98s/it]"
     ]
    },
    {
     "name": "stdout",
     "output_type": "stream",
     "text": [
      " best_seasonal_pdq:\n",
      "(0, 1, 1) (0, 0, 0, 12)\n",
      "Upper Lawrenceville\n",
      "best_pdq:"
     ]
    },
    {
     "name": "stderr",
     "output_type": "stream",
     "text": [
      "\r",
      " 97%|█████████▋| 66/68 [58:09<01:45, 52.87s/it]"
     ]
    },
    {
     "name": "stdout",
     "output_type": "stream",
     "text": [
      " best_seasonal_pdq:\n",
      "(1, 1, 2) (1, 0, 1, 12)\n",
      "West End\n",
      "best_pdq:"
     ]
    },
    {
     "name": "stderr",
     "output_type": "stream",
     "text": [
      "\r",
      " 99%|█████████▊| 67/68 [58:58<00:52, 52.82s/it]"
     ]
    },
    {
     "name": "stdout",
     "output_type": "stream",
     "text": [
      " best_seasonal_pdq:\n",
      "(0, 0, 2) (1, 0, 0, 12)\n",
      "Westwood\n",
      "best_pdq:"
     ]
    },
    {
     "name": "stderr",
     "output_type": "stream",
     "text": [
      "\r",
      "100%|██████████| 68/68 [59:35<00:00, 52.59s/it]"
     ]
    },
    {
     "name": "stdout",
     "output_type": "stream",
     "text": [
      " best_seasonal_pdq:\n",
      "(0, 1, 2) (1, 0, 0, 12)\n"
     ]
    },
    {
     "name": "stderr",
     "output_type": "stream",
     "text": [
      "\n"
     ]
    }
   ],
   "source": [
    "# loop through each column and perform time series analysis to make predictions for 2018.\n",
    "import time\n",
    "from tqdm import tqdm\n",
    "\n",
    "predict_mse = []\n",
    "forecast_list = []\n",
    "for col in tqdm(list(PGH_2010_2017.columns)):\n",
    "#for col in tqdm(list(PGH_2010_2017.columns)[:1]):\n",
    "    print(col)\n",
    "    review = PGH_2010_2017[[col]].copy()\n",
    "    review.columns = ['Value']\n",
    "    review.reset_index(inplace = True)\n",
    "    review['Month'] = pd.to_datetime(review['Month'])\n",
    "    review = review.set_index('Month')\n",
    "    review.index = pd.DatetimeIndex(review.index.values,\n",
    "                               freq=review.index.inferred_freq)\n",
    "    \n",
    "    \n",
    "    review['Value_log']= review.Value.apply(lambda x: np.log(x+1))  \n",
    "    review['log_first_difference'] = review.Value_log - review.Value_log.shift(1)  \n",
    "#    result = adfuller(review.log_first_difference.dropna(inplace=False))\n",
    "#     if result[1] >= 0.05:\n",
    "#         print(col, result[1]) \n",
    "\n",
    "    best_pdq, best_seasonal_pdq = grid_search_pdq(review)\n",
    "    \n",
    "    print('best_pdq:', 'best_seasonal_pdq:')\n",
    "    print(best_pdq, best_seasonal_pdq)\n",
    "    \n",
    "    # Use the grid_searched best_pdq, and best_seasonal_pdq to train the model\n",
    "    #X_train = review.Value_log[:'2016-12-01']\n",
    "    \n",
    "    #try:\n",
    "    #    mod = sm.tsa.statespace.SARIMAX(X_train, order = best_pdq, seasonal_order = best_seasonal_pdq)   \n",
    "    #except TypeError:\n",
    "    #    continue     \n",
    "    #results = mod.fit()\n",
    "    \n",
    "    # get forecast 11 steps ahead in future, to compare with the test data set.\n",
    "    #pred_uc = results.get_forecast(steps=11) \n",
    "    # get confidence intervals of forecasts\n",
    "    #pred_ci = pred_uc.conf_int(alpha = 0.5)\n",
    "    #y_hat = np.exp(pred_uc.predicted_mean) - 1\n",
    "    #y_true = CBD.Value_log['2017-01-01':]\n",
    "    #y_true = review.Value['2017-01-01':]\n",
    "\n",
    "    # compute the mean square error\n",
    "    #mse = ((y_hat - y_true) ** 2).mean()\n",
    "    #predict_mse.append(mse)\n",
    "\n",
    "    # Now model using all the data and predict 2017-12 to 2018-12\n",
    "    try:\n",
    "        sarima_model = sm.tsa.statespace.SARIMAX(review.Value_log, order = best_pdq, seasonal_order = best_seasonal_pdq)\n",
    "        sarima_results = sarima_model.fit()\n",
    "    except: \n",
    "        continue\n",
    "    \n",
    "    pred_uc = sarima_results.get_forecast(steps=13) \n",
    "\n",
    "    # get confidence intervals of forecasts\n",
    "    pred_ci = pred_uc.conf_int(alpha = 0.5)\n",
    "    rev_predict = round(np.exp(pred_uc.predicted_mean) - 1)\n",
    "    lower_limit = round(np.exp(pred_ci.iloc[:, 0]) - 1)\n",
    "    upper_limit = round(np.exp(pred_ci.iloc[:, 1]) - 1)\n",
    "\n",
    "    # append predictions and confidence intervals to a list. \n",
    "    frames = [rev_predict, lower_limit, upper_limit]\n",
    "    forecast = pd.concat(frames, axis = 1)\n",
    "    forecast.columns = [col, col+' lower', col+' upper']\n",
    "    forecast_list.append(forecast)"
   ]
  },
  {
   "cell_type": "code",
   "execution_count": 6,
   "metadata": {
    "collapsed": false
   },
   "outputs": [],
   "source": [
    "# Save the data \n",
    "forecast_df = pd.concat(forecast_list, axis = 1)\n",
    "forecast_df.to_csv(\"forecast_dataframe_50conf.csv\", sep = '\\t', index_label='Date')"
   ]
  },
  {
   "cell_type": "code",
   "execution_count": 15,
   "metadata": {
    "collapsed": false
   },
   "outputs": [],
   "source": [
    "# combine the historical and predicted data\n",
    "PGH_review.set_index('Month', inplace=True)\n",
    "frames = [PGH_review[:-1], forecast_df]\n",
    "result = pd.concat(frames, join = 'inner')\n",
    "result.index = pd.to_datetime(result.index)\n",
    "result.to_csv('Yelp_ReviewCount_withPredict.csv',sep ='\\t',index_label='Month')"
   ]
  },
  {
   "cell_type": "code",
   "execution_count": null,
   "metadata": {
    "collapsed": true
   },
   "outputs": [],
   "source": []
  }
 ],
 "metadata": {
  "kernelspec": {
   "display_name": "Python 3",
   "language": "python",
   "name": "python3"
  },
  "language_info": {
   "codemirror_mode": {
    "name": "ipython",
    "version": 3
   },
   "file_extension": ".py",
   "mimetype": "text/x-python",
   "name": "python",
   "nbconvert_exporter": "python",
   "pygments_lexer": "ipython3",
   "version": "3.5.4"
  }
 },
 "nbformat": 4,
 "nbformat_minor": 2
}
