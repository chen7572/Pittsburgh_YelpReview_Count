{
 "cells": [
  {
   "cell_type": "code",
   "execution_count": 1,
   "metadata": {
    "collapsed": false
   },
   "outputs": [],
   "source": [
    "import pandas as pd\n",
    "import geopandas as gpd\n",
    "import os\n",
    "import fiona\n",
    "import datetime\n",
    "import shapely\n",
    "\n",
    "from bokeh.plotting import Figure, show, output_file, save\n",
    "from bokeh.models import CustomJS, Slider, DateSlider, ColorBar, LogTicker, FixedTicker, BasicTicker\n",
    "from bokeh.layouts import column, widgetbox\n",
    "from bokeh.io import show, output_notebook\n",
    "from bokeh.models import HoverTool, ColumnDataSource, LinearColorMapper, LogColorMapper"
   ]
  },
  {
   "cell_type": "code",
   "execution_count": 2,
   "metadata": {
    "collapsed": false
   },
   "outputs": [],
   "source": [
    "#PGH_review = pd.read_csv('/Users/chenchen/Documents/DataScience/DataIncubator/dataset/Yelp_ReviewCount.csv', sep = '\\t',parse_dates=['Month'], index_col='Month')\n",
    "PGH_review = pd.read_csv('Yelp_ReviewCount_withPredict.csv', sep = '\\t',parse_dates=['Month'], index_col='Month')"
   ]
  },
  {
   "cell_type": "code",
   "execution_count": 3,
   "metadata": {
    "collapsed": false
   },
   "outputs": [
    {
     "data": {
      "text/plain": [
       "25"
      ]
     },
     "execution_count": 3,
     "metadata": {},
     "output_type": "execute_result"
    }
   ],
   "source": [
    "# Load in neighborhood data for plotting\n",
    "neighborhoods = gpd.read_file(os.path.join(r\"PA_neighborhood/\",\n",
    "                       \"ZillowNeighborhoods-PA.shp\"))\n",
    "Pittsburgh_neighborhood = neighborhoods[neighborhoods['City'] == 'Pittsburgh'].copy()\n",
    "\n",
    "# List the number of neigborhoods that don't have data. \n",
    "list1 = Pittsburgh_neighborhood['Name'].tolist()\n",
    "missing = [col for col in list1 if col not in PGH_review.columns]\n",
    "len(missing)"
   ]
  },
  {
   "cell_type": "code",
   "execution_count": 4,
   "metadata": {
    "collapsed": false
   },
   "outputs": [],
   "source": [
    "# Add neighborhood outline to the review count data. \n",
    "PGH_neighbor = PGH_review['2006':].T.copy().reset_index()\n",
    "PGH_neighbor.rename(columns = {'index':'Name'},inplace=True)\n",
    "Merged_result = pd.merge(PGH_neighbor, Pittsburgh_neighborhood, on='Name', how='outer')\n",
    "\n",
    "# Convert the datetime column name to a string representation. \n",
    "for col in Merged_result.columns:\n",
    "    if isinstance(col, datetime.date):\n",
    "        new_name = col.strftime('%Y-%m')\n",
    "        Merged_result.rename(columns = {col:new_name},inplace=True)\n",
    "            "
   ]
  },
  {
   "cell_type": "code",
   "execution_count": 5,
   "metadata": {
    "collapsed": false
   },
   "outputs": [],
   "source": [
    "# Create a dataframe for plotting using Bokeh later\n",
    "bokeh_df = Merged_result.drop(['State','County','City','RegionID'],axis = 1)\n",
    "#bokeh_df_uncategorized = bokeh_df.iloc[65,:]\n",
    "#bokeh_df = bokeh_df.drop(bokeh_df.index[[1,65]])"
   ]
  },
  {
   "cell_type": "code",
   "execution_count": 6,
   "metadata": {
    "collapsed": true
   },
   "outputs": [],
   "source": [
    "def getPolyCoords(row, geom, coord_type):\n",
    "    \"\"\"Returns the coordinates ('x' or 'y') of edges of a Polygon exterior\"\"\"\n",
    "\n",
    "    # Parse the exterior of the coordinate\n",
    "    if isinstance(row[geom], shapely.geometry.multipolygon.MultiPolygon):\n",
    "        exterior = row[geom][1].exterior\n",
    "    else:\n",
    "        exterior = row[geom].exterior\n",
    "\n",
    "    if coord_type == 'x':\n",
    "        # Get the x coordinates of the exterior\n",
    "        return list( exterior.coords.xy[0] )\n",
    "    elif coord_type == 'y':\n",
    "        # Get the y coordinates of the exterior\n",
    "        return list( exterior.coords.xy[1] )"
   ]
  },
  {
   "cell_type": "code",
   "execution_count": 7,
   "metadata": {
    "collapsed": false
   },
   "outputs": [],
   "source": [
    "# Save outline of each neighborhood as X and Y. \n",
    "bokeh_df['x'] = bokeh_df.apply(getPolyCoords, geom='geometry', coord_type='x', axis=1)\n",
    "bokeh_df['y'] = bokeh_df.apply(getPolyCoords, geom='geometry', coord_type='y', axis=1)\n",
    "bokeh_df.drop(['geometry'],axis = 1,inplace=True)\n",
    "\n",
    "# Get the percentage of review counts\n",
    "bokeh_df_percent = bokeh_df.copy()\n",
    "for i in bokeh_df.columns[1:157]:  \n",
    "    bokeh_df_percent[i] = 100 * bokeh_df[i] / bokeh_df[i].sum()    "
   ]
  },
  {
   "cell_type": "code",
   "execution_count": 8,
   "metadata": {
    "collapsed": false
   },
   "outputs": [],
   "source": [
    "# Plotting the percentage of review count for each neighborhood in Pittsburgh. \n",
    "\n",
    "bokeh_df_percent['used'] = bokeh_df_percent['2012-01']\n",
    "source = ColumnDataSource(bokeh_df_percent)\n",
    "#source2 = ColumnDataSource(bokeh_df)\n",
    "\n",
    "TOOLS = \"pan,wheel_zoom,reset,hover,save\"\n",
    "#custom_colors = ['#f2f2f2', '#fee5d9', '#fcbba1', '#fc9272', '#fb6a4a', '#de2d26']\n",
    "#custom_colors = ['#ffede6','#ffdacc','#ffc8b3','#ffb699','#ffa480','#ffa07a','#ff9166','#ff7f4d','#ff6d33','#ff4800']\n",
    "custom_colors = ['#ffede6','#ffb699','#ffa07a','#ff7f4d','#ff4800']\n",
    "color_mapper = LinearColorMapper(palette=custom_colors, low = 0.0, high = 15)\n",
    "\n",
    "\n",
    "p = Figure(title=\"Fraction of Yelp Reviews (%)\", tools = TOOLS, x_axis_location=None, y_axis_location=None)\n",
    "p.width=600\n",
    "p.height = 550\n",
    "p.grid.grid_line_color = None\n",
    "\n",
    "\n",
    "renderer = p.patches('x', 'y', source=source,\n",
    "          fill_color={'field': 'used', 'transform': color_mapper}, \n",
    "          fill_alpha = 0.8, line_color='black', line_width=0.6)\n",
    "\n",
    "hover = p.select_one(HoverTool)\n",
    "hover.point_policy = \"follow_mouse\"\n",
    "hover.tooltips = [\n",
    "    (\"Name\", \"@Name\"),\n",
    "    (\"Review Count(%)\", \"@used\"),\n",
    "    (\"(Lat, Long)\", \"($y, $x)\"),\n",
    "]\n",
    "\n",
    "color_bar = ColorBar(color_mapper=color_mapper, ticker=BasicTicker(),\n",
    "                     label_standoff=12, border_line_color=None, location=(0,0))\n",
    "\n",
    "p.add_layout(color_bar, 'left')\n",
    "\n",
    "callback = CustomJS(args=dict(source=source,  plot=p, color_mapper = color_mapper,renderer = renderer),code=\"\"\"\n",
    "    var data = source.data;\n",
    "    date = new Date(slider.value)\n",
    "    var year = date.getFullYear().toString();\n",
    "    var month = date.getMonth().toString();\n",
    "    console.log(month)\n",
    "    var month_str = month.length == 1 ? '0'+ month : month;\n",
    "    \n",
    "    var time = year+'-'+month_str;\n",
    "    used = data['used']\n",
    "    should_be = data[time]\n",
    "    for (i = 0; i < should_be.length; i++) {\n",
    "         used[i] = should_be[i];\n",
    "    }\n",
    "    \n",
    "    source.change.emit()\n",
    "    \"\"\")\n",
    "\n",
    "time_slider = DateSlider(title=\"Date\", start=datetime.date(2006, 1, 1), end=datetime.date(2017, 11, 1),value=datetime.date(2014, 4, 1), step=1, format = \"%Y-%m\", callback=callback)\n",
    "callback.args['slider'] = time_slider\n",
    "\n",
    "layout = column(p, time_slider)\n",
    "show(layout)"
   ]
  },
  {
   "cell_type": "code",
   "execution_count": 9,
   "metadata": {
    "collapsed": false
   },
   "outputs": [],
   "source": [
    "# Read in data on the number of restaurants in Pittsburgh. \n",
    "PGH_restaurants = pd.read_csv('/Users/chenchen/Documents/DataScience/DataIncubator/dataset/Yelp_RestaurantCount.csv', sep = '\\t',parse_dates=['Year'], index_col='Year')"
   ]
  },
  {
   "cell_type": "code",
   "execution_count": 10,
   "metadata": {
    "collapsed": false
   },
   "outputs": [],
   "source": [
    "# Get the number of restaurants in 2017 to show the density of restaurants. \n",
    "PGH_neighbor_res = PGH_restaurants['2017':].T.copy().reset_index()\n",
    "PGH_neighbor_res.rename(columns = {'index':'Name'},inplace=True)\n",
    "Merged_result_res = pd.merge(PGH_neighbor_res, Pittsburgh_neighborhood, on='Name', how='outer')\n",
    "\n",
    "for col in Merged_result_res.columns:\n",
    "    if isinstance(col, datetime.date):\n",
    "        new_name = col.strftime('%Y')\n",
    "        Merged_result_res.rename(columns = {col:new_name},inplace=True)"
   ]
  },
  {
   "cell_type": "code",
   "execution_count": 11,
   "metadata": {
    "collapsed": false
   },
   "outputs": [],
   "source": [
    "bokeh_res_df = Merged_result_res.drop(['State','County','City','RegionID'],axis = 1)\n",
    "bokeh_res_df = bokeh_res_df.drop(bokeh_res_df.index[[1,65]]) # leave out 'Uncategorized column during plotting\n",
    "\n",
    "bokeh_res_df['x'] = bokeh_res_df.apply(getPolyCoords, geom='geometry', coord_type='x', axis=1)\n",
    "bokeh_res_df['y'] = bokeh_res_df.apply(getPolyCoords, geom='geometry', coord_type='y', axis=1)\n",
    "bokeh_res_df.drop(['geometry'],axis = 1,inplace=True)"
   ]
  },
  {
   "cell_type": "code",
   "execution_count": 12,
   "metadata": {
    "collapsed": false
   },
   "outputs": [],
   "source": [
    "# Plot the number of restaurants in Pittsburgh \n",
    "bokeh_res_df['used'] = bokeh_res_df['2017']\n",
    "source3 = ColumnDataSource(bokeh_res_df)\n",
    "\n",
    "TOOLS = \"pan,wheel_zoom,reset,hover,save\"\n",
    "#custom_colors = ['#f2f2f2', '#fee5d9', '#fcbba1', '#fc9272', '#fb6a4a', '#de2d26']\n",
    "custom_colors = ['#ffede6','#ffdacc','#ffc8b3','#ffb699','#ffa480','#ffa07a','#ff9166','#ff7f4d','#ff6d33','#ff4800']\n",
    "#custom_colors = ['#ffede6','#ffb699','#ffa07a','#ff7f4d','#ff4800']\n",
    "color_mapper = LinearColorMapper(palette=custom_colors, low = 0.0, high = 200)\n",
    "\n",
    "\n",
    "p = Figure(title=\"Number of restaurants in 2017\", tools = TOOLS, x_axis_location=None, y_axis_location=None)\n",
    "p.width=600\n",
    "p.height = 550\n",
    "p.grid.grid_line_color = None\n",
    "\n",
    "renderer = p.patches('x', 'y', source=source3,\n",
    "          fill_color={'field': 'used', 'transform': color_mapper}, \n",
    "          fill_alpha = 0.8, line_color='black', line_width=0.6)\n",
    "\n",
    "hover = p.select_one(HoverTool)\n",
    "hover.point_policy = \"follow_mouse\"\n",
    "hover.tooltips = [\n",
    "    (\"Name\", \"@Name\"),\n",
    "    (\"# Restaurants\", \"@used\"),\n",
    "    (\"(Lat, Long)\", \"($y, $x)\"),\n",
    "]\n",
    "\n",
    "\n",
    "color_bar = ColorBar(color_mapper=color_mapper, ticker=BasicTicker(),\n",
    "                     label_standoff=12, border_line_color=None, location=(0,0))\n",
    "\n",
    "p.add_layout(color_bar, 'left')\n",
    "\n",
    "callback = CustomJS(args=dict(source=source3,  plot=p, color_mapper = color_mapper,renderer = renderer),code=\"\"\"\n",
    "    var data = source.data;\n",
    "    date = new Date(slider.value)\n",
    "    var year = date.getFullYear().toString();\n",
    "  \n",
    "    used = data['used']\n",
    "    should_be = data[time]\n",
    "    for (i = 0; i < should_be.length; i++) {\n",
    "         used[i] = should_be[i];\n",
    "    }\n",
    "    \n",
    "    source.change.emit()\n",
    "    \"\"\")\n",
    "\n",
    "time_slider = DateSlider(title=\"Year\", start=datetime.date(2017, 1, 1), end=datetime.date(2017, 2, 1),value=datetime.date(2017, 1, 1), step=1, format = \"%Y\", callback=callback)\n",
    "callback.args['slider'] = time_slider\n",
    "\n",
    "layout = column(p, time_slider)\n",
    "#layout=p\n",
    "show(layout)\n",
    "#output_file(\"restaurant_count.html\")\n",
    "#save(layout)\n"
   ]
  },
  {
   "cell_type": "code",
   "execution_count": null,
   "metadata": {
    "collapsed": false
   },
   "outputs": [],
   "source": []
  },
  {
   "cell_type": "code",
   "execution_count": null,
   "metadata": {
    "collapsed": true
   },
   "outputs": [],
   "source": []
  }
 ],
 "metadata": {
  "kernelspec": {
   "display_name": "Python 3",
   "language": "python",
   "name": "python3"
  },
  "language_info": {
   "codemirror_mode": {
    "name": "ipython",
    "version": 3
   },
   "file_extension": ".py",
   "mimetype": "text/x-python",
   "name": "python",
   "nbconvert_exporter": "python",
   "pygments_lexer": "ipython3",
   "version": "3.5.4"
  }
 },
 "nbformat": 4,
 "nbformat_minor": 0
}
